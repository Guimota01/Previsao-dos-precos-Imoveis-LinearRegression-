{
  "nbformat": 4,
  "nbformat_minor": 0,
  "metadata": {
    "colab": {
      "name": "Previsão dos preços de Imóveis com o LinearRegression()",
      "provenance": []
    },
    "kernelspec": {
      "name": "python3",
      "display_name": "Python 3"
    },
    "language_info": {
      "name": "python"
    }
  },
  "cells": [
    {
      "cell_type": "code",
      "metadata": {
        "id": "bUrJjwa1pn_Y"
      },
      "source": [
        "import matplotlib.pyplot as plt\n",
        "%matplotlib inline\n",
        "import pandas as pd\n",
        "import numpy as np\n",
        "import seaborn as sns\n",
        "from sklearn.linear_model import LinearRegression\n",
        "from sklearn import metrics"
      ],
      "execution_count": 2,
      "outputs": []
    },
    {
      "cell_type": "code",
      "metadata": {
        "colab": {
          "base_uri": "https://localhost:8080/",
          "height": 204
        },
        "id": "4AkHrHLepp6N",
        "outputId": "f792e223-7c78-4add-ce5e-d0b0379077be"
      },
      "source": [
        "# Fonte: https://www.kaggle.com/greenwing1985/housepricing\n",
        "dados = pd.read_csv('HousePrices_HalfMil.csv', sep = ';')\n",
        "dados.head()"
      ],
      "execution_count": 3,
      "outputs": [
        {
          "output_type": "execute_result",
          "data": {
            "text/html": [
              "<div>\n",
              "<style scoped>\n",
              "    .dataframe tbody tr th:only-of-type {\n",
              "        vertical-align: middle;\n",
              "    }\n",
              "\n",
              "    .dataframe tbody tr th {\n",
              "        vertical-align: top;\n",
              "    }\n",
              "\n",
              "    .dataframe thead th {\n",
              "        text-align: right;\n",
              "    }\n",
              "</style>\n",
              "<table border=\"1\" class=\"dataframe\">\n",
              "  <thead>\n",
              "    <tr style=\"text-align: right;\">\n",
              "      <th></th>\n",
              "      <th>precos</th>\n",
              "      <th>area</th>\n",
              "      <th>garagem</th>\n",
              "      <th>banheiros</th>\n",
              "      <th>lareira</th>\n",
              "      <th>marmore</th>\n",
              "      <th>andares</th>\n",
              "    </tr>\n",
              "  </thead>\n",
              "  <tbody>\n",
              "    <tr>\n",
              "      <th>0</th>\n",
              "      <td>51875</td>\n",
              "      <td>25</td>\n",
              "      <td>3</td>\n",
              "      <td>4</td>\n",
              "      <td>3</td>\n",
              "      <td>0</td>\n",
              "      <td>1</td>\n",
              "    </tr>\n",
              "    <tr>\n",
              "      <th>1</th>\n",
              "      <td>17875</td>\n",
              "      <td>35</td>\n",
              "      <td>1</td>\n",
              "      <td>3</td>\n",
              "      <td>1</td>\n",
              "      <td>0</td>\n",
              "      <td>0</td>\n",
              "    </tr>\n",
              "    <tr>\n",
              "      <th>2</th>\n",
              "      <td>47075</td>\n",
              "      <td>195</td>\n",
              "      <td>2</td>\n",
              "      <td>4</td>\n",
              "      <td>2</td>\n",
              "      <td>0</td>\n",
              "      <td>0</td>\n",
              "    </tr>\n",
              "    <tr>\n",
              "      <th>3</th>\n",
              "      <td>38575</td>\n",
              "      <td>33</td>\n",
              "      <td>2</td>\n",
              "      <td>2</td>\n",
              "      <td>1</td>\n",
              "      <td>0</td>\n",
              "      <td>1</td>\n",
              "    </tr>\n",
              "    <tr>\n",
              "      <th>4</th>\n",
              "      <td>33775</td>\n",
              "      <td>11</td>\n",
              "      <td>2</td>\n",
              "      <td>3</td>\n",
              "      <td>0</td>\n",
              "      <td>0</td>\n",
              "      <td>1</td>\n",
              "    </tr>\n",
              "  </tbody>\n",
              "</table>\n",
              "</div>"
            ],
            "text/plain": [
              "   precos  area  garagem  banheiros  lareira  marmore  andares\n",
              "0   51875    25        3          4        3        0        1\n",
              "1   17875    35        1          3        1        0        0\n",
              "2   47075   195        2          4        2        0        0\n",
              "3   38575    33        2          2        1        0        1\n",
              "4   33775    11        2          3        0        0        1"
            ]
          },
          "metadata": {
            "tags": []
          },
          "execution_count": 3
        }
      ]
    },
    {
      "cell_type": "code",
      "metadata": {
        "colab": {
          "base_uri": "https://localhost:8080/"
        },
        "id": "855PeCpeprNL",
        "outputId": "85e6312f-63ef-4688-f01a-df078784b8a5"
      },
      "source": [
        "dados.shape"
      ],
      "execution_count": 4,
      "outputs": [
        {
          "output_type": "execute_result",
          "data": {
            "text/plain": [
              "(1000, 7)"
            ]
          },
          "metadata": {
            "tags": []
          },
          "execution_count": 4
        }
      ]
    },
    {
      "cell_type": "code",
      "metadata": {
        "colab": {
          "base_uri": "https://localhost:8080/",
          "height": 297
        },
        "id": "CAD0M0nAp76D",
        "outputId": "a15805aa-84b9-41ab-c7c0-2a8ce2a23af6"
      },
      "source": [
        "dados.describe().round(2)"
      ],
      "execution_count": 5,
      "outputs": [
        {
          "output_type": "execute_result",
          "data": {
            "text/html": [
              "<div>\n",
              "<style scoped>\n",
              "    .dataframe tbody tr th:only-of-type {\n",
              "        vertical-align: middle;\n",
              "    }\n",
              "\n",
              "    .dataframe tbody tr th {\n",
              "        vertical-align: top;\n",
              "    }\n",
              "\n",
              "    .dataframe thead th {\n",
              "        text-align: right;\n",
              "    }\n",
              "</style>\n",
              "<table border=\"1\" class=\"dataframe\">\n",
              "  <thead>\n",
              "    <tr style=\"text-align: right;\">\n",
              "      <th></th>\n",
              "      <th>precos</th>\n",
              "      <th>area</th>\n",
              "      <th>garagem</th>\n",
              "      <th>banheiros</th>\n",
              "      <th>lareira</th>\n",
              "      <th>marmore</th>\n",
              "      <th>andares</th>\n",
              "    </tr>\n",
              "  </thead>\n",
              "  <tbody>\n",
              "    <tr>\n",
              "      <th>count</th>\n",
              "      <td>1000.00</td>\n",
              "      <td>1000.00</td>\n",
              "      <td>1000.00</td>\n",
              "      <td>1000.00</td>\n",
              "      <td>1000.00</td>\n",
              "      <td>1000.00</td>\n",
              "      <td>1000.00</td>\n",
              "    </tr>\n",
              "    <tr>\n",
              "      <th>mean</th>\n",
              "      <td>41985.60</td>\n",
              "      <td>124.33</td>\n",
              "      <td>2.01</td>\n",
              "      <td>3.00</td>\n",
              "      <td>2.03</td>\n",
              "      <td>0.33</td>\n",
              "      <td>0.48</td>\n",
              "    </tr>\n",
              "    <tr>\n",
              "      <th>std</th>\n",
              "      <td>12140.39</td>\n",
              "      <td>72.39</td>\n",
              "      <td>0.81</td>\n",
              "      <td>1.43</td>\n",
              "      <td>1.42</td>\n",
              "      <td>0.47</td>\n",
              "      <td>0.50</td>\n",
              "    </tr>\n",
              "    <tr>\n",
              "      <th>min</th>\n",
              "      <td>13150.00</td>\n",
              "      <td>1.00</td>\n",
              "      <td>1.00</td>\n",
              "      <td>1.00</td>\n",
              "      <td>0.00</td>\n",
              "      <td>0.00</td>\n",
              "      <td>0.00</td>\n",
              "    </tr>\n",
              "    <tr>\n",
              "      <th>25%</th>\n",
              "      <td>33112.50</td>\n",
              "      <td>60.75</td>\n",
              "      <td>1.00</td>\n",
              "      <td>2.00</td>\n",
              "      <td>1.00</td>\n",
              "      <td>0.00</td>\n",
              "      <td>0.00</td>\n",
              "    </tr>\n",
              "    <tr>\n",
              "      <th>50%</th>\n",
              "      <td>41725.00</td>\n",
              "      <td>123.00</td>\n",
              "      <td>2.00</td>\n",
              "      <td>3.00</td>\n",
              "      <td>2.00</td>\n",
              "      <td>0.00</td>\n",
              "      <td>0.00</td>\n",
              "    </tr>\n",
              "    <tr>\n",
              "      <th>75%</th>\n",
              "      <td>51175.00</td>\n",
              "      <td>187.00</td>\n",
              "      <td>3.00</td>\n",
              "      <td>4.00</td>\n",
              "      <td>3.00</td>\n",
              "      <td>1.00</td>\n",
              "      <td>1.00</td>\n",
              "    </tr>\n",
              "    <tr>\n",
              "      <th>max</th>\n",
              "      <td>73675.00</td>\n",
              "      <td>249.00</td>\n",
              "      <td>3.00</td>\n",
              "      <td>5.00</td>\n",
              "      <td>4.00</td>\n",
              "      <td>1.00</td>\n",
              "      <td>1.00</td>\n",
              "    </tr>\n",
              "  </tbody>\n",
              "</table>\n",
              "</div>"
            ],
            "text/plain": [
              "         precos     area  garagem  banheiros  lareira  marmore  andares\n",
              "count   1000.00  1000.00  1000.00    1000.00  1000.00  1000.00  1000.00\n",
              "mean   41985.60   124.33     2.01       3.00     2.03     0.33     0.48\n",
              "std    12140.39    72.39     0.81       1.43     1.42     0.47     0.50\n",
              "min    13150.00     1.00     1.00       1.00     0.00     0.00     0.00\n",
              "25%    33112.50    60.75     1.00       2.00     1.00     0.00     0.00\n",
              "50%    41725.00   123.00     2.00       3.00     2.00     0.00     0.00\n",
              "75%    51175.00   187.00     3.00       4.00     3.00     1.00     1.00\n",
              "max    73675.00   249.00     3.00       5.00     4.00     1.00     1.00"
            ]
          },
          "metadata": {
            "tags": []
          },
          "execution_count": 5
        }
      ]
    },
    {
      "cell_type": "code",
      "metadata": {
        "colab": {
          "base_uri": "https://localhost:8080/",
          "height": 266
        },
        "id": "_rOFQFhLp-nq",
        "outputId": "f305dd5b-c906-4d9f-becc-df13ab2e9bd0"
      },
      "source": [
        "dados.corr().round(4)"
      ],
      "execution_count": 6,
      "outputs": [
        {
          "output_type": "execute_result",
          "data": {
            "text/html": [
              "<div>\n",
              "<style scoped>\n",
              "    .dataframe tbody tr th:only-of-type {\n",
              "        vertical-align: middle;\n",
              "    }\n",
              "\n",
              "    .dataframe tbody tr th {\n",
              "        vertical-align: top;\n",
              "    }\n",
              "\n",
              "    .dataframe thead th {\n",
              "        text-align: right;\n",
              "    }\n",
              "</style>\n",
              "<table border=\"1\" class=\"dataframe\">\n",
              "  <thead>\n",
              "    <tr style=\"text-align: right;\">\n",
              "      <th></th>\n",
              "      <th>precos</th>\n",
              "      <th>area</th>\n",
              "      <th>garagem</th>\n",
              "      <th>banheiros</th>\n",
              "      <th>lareira</th>\n",
              "      <th>marmore</th>\n",
              "      <th>andares</th>\n",
              "    </tr>\n",
              "  </thead>\n",
              "  <tbody>\n",
              "    <tr>\n",
              "      <th>precos</th>\n",
              "      <td>1.0000</td>\n",
              "      <td>0.1177</td>\n",
              "      <td>0.1028</td>\n",
              "      <td>0.1244</td>\n",
              "      <td>0.1072</td>\n",
              "      <td>0.4308</td>\n",
              "      <td>0.6315</td>\n",
              "    </tr>\n",
              "    <tr>\n",
              "      <th>area</th>\n",
              "      <td>0.1177</td>\n",
              "      <td>1.0000</td>\n",
              "      <td>-0.0075</td>\n",
              "      <td>-0.0114</td>\n",
              "      <td>0.0121</td>\n",
              "      <td>-0.0153</td>\n",
              "      <td>-0.0180</td>\n",
              "    </tr>\n",
              "    <tr>\n",
              "      <th>garagem</th>\n",
              "      <td>0.1028</td>\n",
              "      <td>-0.0075</td>\n",
              "      <td>1.0000</td>\n",
              "      <td>0.0671</td>\n",
              "      <td>0.0605</td>\n",
              "      <td>-0.0156</td>\n",
              "      <td>-0.0206</td>\n",
              "    </tr>\n",
              "    <tr>\n",
              "      <th>banheiros</th>\n",
              "      <td>0.1244</td>\n",
              "      <td>-0.0114</td>\n",
              "      <td>0.0671</td>\n",
              "      <td>1.0000</td>\n",
              "      <td>0.0484</td>\n",
              "      <td>-0.0253</td>\n",
              "      <td>-0.0182</td>\n",
              "    </tr>\n",
              "    <tr>\n",
              "      <th>lareira</th>\n",
              "      <td>0.1072</td>\n",
              "      <td>0.0121</td>\n",
              "      <td>0.0605</td>\n",
              "      <td>0.0484</td>\n",
              "      <td>1.0000</td>\n",
              "      <td>0.0296</td>\n",
              "      <td>-0.0035</td>\n",
              "    </tr>\n",
              "    <tr>\n",
              "      <th>marmore</th>\n",
              "      <td>0.4308</td>\n",
              "      <td>-0.0153</td>\n",
              "      <td>-0.0156</td>\n",
              "      <td>-0.0253</td>\n",
              "      <td>0.0296</td>\n",
              "      <td>1.0000</td>\n",
              "      <td>-0.0065</td>\n",
              "    </tr>\n",
              "    <tr>\n",
              "      <th>andares</th>\n",
              "      <td>0.6315</td>\n",
              "      <td>-0.0180</td>\n",
              "      <td>-0.0206</td>\n",
              "      <td>-0.0182</td>\n",
              "      <td>-0.0035</td>\n",
              "      <td>-0.0065</td>\n",
              "      <td>1.0000</td>\n",
              "    </tr>\n",
              "  </tbody>\n",
              "</table>\n",
              "</div>"
            ],
            "text/plain": [
              "           precos    area  garagem  banheiros  lareira  marmore  andares\n",
              "precos     1.0000  0.1177   0.1028     0.1244   0.1072   0.4308   0.6315\n",
              "area       0.1177  1.0000  -0.0075    -0.0114   0.0121  -0.0153  -0.0180\n",
              "garagem    0.1028 -0.0075   1.0000     0.0671   0.0605  -0.0156  -0.0206\n",
              "banheiros  0.1244 -0.0114   0.0671     1.0000   0.0484  -0.0253  -0.0182\n",
              "lareira    0.1072  0.0121   0.0605     0.0484   1.0000   0.0296  -0.0035\n",
              "marmore    0.4308 -0.0153  -0.0156    -0.0253   0.0296   1.0000  -0.0065\n",
              "andares    0.6315 -0.0180  -0.0206    -0.0182  -0.0035  -0.0065   1.0000"
            ]
          },
          "metadata": {
            "tags": []
          },
          "execution_count": 6
        }
      ]
    },
    {
      "cell_type": "code",
      "metadata": {
        "colab": {
          "base_uri": "https://localhost:8080/",
          "height": 431
        },
        "id": "ri4c7kq0qAOq",
        "outputId": "1b7fee2c-2f97-49af-b1d5-67efccbf40e2"
      },
      "source": [
        "# Box plot da variável dependente (y)\n",
        "sns.set_palette('Accent')\n",
        "sns.set_style('darkgrid')\n",
        "ax = sns.boxplot(data=dados['precos'], orient='h', width=0.2)\n",
        "ax.figure.set_size_inches(12, 6)\n",
        "ax.set_title('Preçoes dos Imoveis', fontsize=20)\n",
        "ax.set_xlabel('Preço', fontsize = 16)\n",
        "ax"
      ],
      "execution_count": 7,
      "outputs": [
        {
          "output_type": "execute_result",
          "data": {
            "text/plain": [
              "<matplotlib.axes._subplots.AxesSubplot at 0x7f9014411490>"
            ]
          },
          "metadata": {
            "tags": []
          },
          "execution_count": 7
        },
        {
          "output_type": "display_data",
          "data": {
            "image/png": "[encoded data removed]",
            "text/plain": [
              "<Figure size 864x432 with 1 Axes>"
            ]
          },
          "metadata": {
            "tags": []
          }
        }
      ]
    },
    {
      "cell_type": "code",
      "metadata": {
        "colab": {
          "base_uri": "https://localhost:8080/",
          "height": 486
        },
        "id": "TTDDBgzrqGkK",
        "outputId": "c734ccf4-5975-402c-e191-a5dd7d938251"
      },
      "source": [
        "# Box-plot (Preço X Garagem)\n",
        "ax = sns.boxplot(y='precos', x='garagem', data=dados, orient='v', width=0.5)\n",
        "ax.figure.set_size_inches(14, 7)\n",
        "ax.set_title('Preço dos Imóveis', fontsize=20)\n",
        "ax.set_ylabel('Preço', fontsize=14)\n",
        "ax.set_xlabel('Número de Vagas de Garagem', fontsize=14)\n",
        "ax"
      ],
      "execution_count": 8,
      "outputs": [
        {
          "output_type": "execute_result",
          "data": {
            "text/plain": [
              "<matplotlib.axes._subplots.AxesSubplot at 0x7f9013eaf090>"
            ]
          },
          "metadata": {
            "tags": []
          },
          "execution_count": 8
        },
        {
          "output_type": "display_data",
          "data": {
            "image/png": "[encoded data removed]",
            "text/plain": [
              "<Figure size 1008x504 with 1 Axes>"
            ]
          },
          "metadata": {
            "tags": []
          }
        }
      ]
    },
    {
      "cell_type": "code",
      "metadata": {
        "colab": {
          "base_uri": "https://localhost:8080/",
          "height": 485
        },
        "id": "P0EkWwitqSbL",
        "outputId": "880a5228-9a80-4de8-a986-e7492f3385db"
      },
      "source": [
        "# Box-plot (Preço X Banheiros)\n",
        "ax = sns.boxplot(y='precos', x='banheiros', data=dados, orient='v', width=0.5)\n",
        "ax.figure.set_size_inches(14, 7)\n",
        "ax.set_title('Preço dos Imóveis', fontsize=20)\n",
        "ax.set_ylabel('Preço', fontsize=14)\n",
        "ax.set_xlabel('Número de Banheiros', fontsize=14)\n",
        "ax"
      ],
      "execution_count": 9,
      "outputs": [
        {
          "output_type": "execute_result",
          "data": {
            "text/plain": [
              "<matplotlib.axes._subplots.AxesSubplot at 0x7f9013e41710>"
            ]
          },
          "metadata": {
            "tags": []
          },
          "execution_count": 9
        },
        {
          "output_type": "display_data",
          "data": {
            "image/png": "[encoded data removed]",
            "text/plain": [
              "<Figure size 1008x504 with 1 Axes>"
            ]
          },
          "metadata": {
            "tags": []
          }
        }
      ]
    },
    {
      "cell_type": "code",
      "metadata": {
        "colab": {
          "base_uri": "https://localhost:8080/",
          "height": 485
        },
        "id": "gmoo5jrDqYKC",
        "outputId": "38e9bbb0-dbf9-41fa-dcf3-88997bc5bd31"
      },
      "source": [
        "# Box-plot (Preço X Lareira)\n",
        "ax = sns.boxplot(y='precos', x='lareira', data=dados, orient='v', width=0.5)\n",
        "ax.figure.set_size_inches(14, 7)\n",
        "ax.set_title('Preço dos Imóveis', fontsize=20)\n",
        "ax.set_ylabel('Preço', fontsize=14)\n",
        "ax.set_xlabel('Número de Lareiras', fontsize=14)\n",
        "ax\n"
      ],
      "execution_count": 10,
      "outputs": [
        {
          "output_type": "execute_result",
          "data": {
            "text/plain": [
              "<matplotlib.axes._subplots.AxesSubplot at 0x7f9013d9e190>"
            ]
          },
          "metadata": {
            "tags": []
          },
          "execution_count": 10
        },
        {
          "output_type": "display_data",
          "data": {
            "image/png": "[encoded data removed]",
            "text/plain": [
              "<Figure size 1008x504 with 1 Axes>"
            ]
          },
          "metadata": {
            "tags": []
          }
        }
      ]
    },
    {
      "cell_type": "code",
      "metadata": {
        "colab": {
          "base_uri": "https://localhost:8080/",
          "height": 485
        },
        "id": "_2iHfbBGqdXS",
        "outputId": "c5556a62-a5be-4dd2-b07c-a1a0bc3190f6"
      },
      "source": [
        "# Box-plot (Preço X Acabamento em Mármore)\n",
        "ax = sns.boxplot(y='precos', x='marmore', data=dados, orient='v', width=0.5)\n",
        "ax.figure.set_size_inches(14, 7)\n",
        "ax.set_title('Preço dos Imóveis', fontsize=20)\n",
        "ax.set_ylabel('Preço', fontsize=14)\n",
        "ax.set_xlabel('Acabamento em Mármore', fontsize=14)\n",
        "ax"
      ],
      "execution_count": 11,
      "outputs": [
        {
          "output_type": "execute_result",
          "data": {
            "text/plain": [
              "<matplotlib.axes._subplots.AxesSubplot at 0x7f9013cdf450>"
            ]
          },
          "metadata": {
            "tags": []
          },
          "execution_count": 11
        },
        {
          "output_type": "display_data",
          "data": {
            "image/png": "[encoded data removed]",
            "text/plain": [
              "<Figure size 1008x504 with 1 Axes>"
            ]
          },
          "metadata": {
            "tags": []
          }
        }
      ]
    },
    {
      "cell_type": "code",
      "metadata": {
        "colab": {
          "base_uri": "https://localhost:8080/",
          "height": 485
        },
        "id": "4d0jYFSOqhnD",
        "outputId": "10ff39b4-8118-49ea-d1b4-180077c236fc"
      },
      "source": [
        "# Box-plot (Preço X Andares)\n",
        "ax = sns.boxplot(y='precos', x='andares', data=dados, orient='v', width=0.5)\n",
        "ax.figure.set_size_inches(14, 7)\n",
        "ax.set_title('Preço dos Imóveis', fontsize=20)\n",
        "ax.set_ylabel('Preço', fontsize=14)\n",
        "ax.set_xlabel('Andares', fontsize=14)\n",
        "ax"
      ],
      "execution_count": 12,
      "outputs": [
        {
          "output_type": "execute_result",
          "data": {
            "text/plain": [
              "<matplotlib.axes._subplots.AxesSubplot at 0x7f9013be6690>"
            ]
          },
          "metadata": {
            "tags": []
          },
          "execution_count": 12
        },
        {
          "output_type": "display_data",
          "data": {
            "image/png": "[encoded data removed]",
            "text/plain": [
              "<Figure size 1008x504 with 1 Axes>"
            ]
          },
          "metadata": {
            "tags": []
          }
        }
      ]
    },
    {
      "cell_type": "code",
      "metadata": {
        "colab": {
          "base_uri": "https://localhost:8080/",
          "height": 539
        },
        "id": "TYGyDnEsqluK",
        "outputId": "117a6fc3-7cef-45bc-f5a6-ddab5f075402"
      },
      "source": [
        "# Distribuição de frequências da variável dependente (y)\n",
        "ax = sns.distplot(dados['precos'])\n",
        "ax.figure.set_size_inches(14, 7)\n",
        "ax.set_title('Distribuição de Frequência', fontsize=20)\n",
        "ax.set_ylabel('Frequências', fontsize=14)\n",
        "ax.set_xlabel('Preço', fontsize=14)\n",
        "ax"
      ],
      "execution_count": 13,
      "outputs": [
        {
          "output_type": "stream",
          "text": [
            "/usr/local/lib/python3.7/dist-packages/seaborn/distributions.py:2557: FutureWarning: `distplot` is a deprecated function and will be removed in a future version. Please adapt your code to use either `displot` (a figure-level function with similar flexibility) or `histplot` (an axes-level function for histograms).\n",
            "  warnings.warn(msg, FutureWarning)\n"
          ],
          "name": "stderr"
        },
        {
          "output_type": "execute_result",
          "data": {
            "text/plain": [
              "<matplotlib.axes._subplots.AxesSubplot at 0x7f9013b28490>"
            ]
          },
          "metadata": {
            "tags": []
          },
          "execution_count": 13
        },
        {
          "output_type": "display_data",
          "data": {
            "image/png": "[encoded data removed]",
            "text/plain": [
              "<Figure size 1008x504 with 1 Axes>"
            ]
          },
          "metadata": {
            "tags": []
          }
        }
      ]
    },
    {
      "cell_type": "code",
      "metadata": {
        "id": "JpXzTuQpqq46"
      },
      "source": [
        "from sklearn.model_selection import train_test_split"
      ],
      "execution_count": 14,
      "outputs": []
    },
    {
      "cell_type": "code",
      "metadata": {
        "colab": {
          "base_uri": "https://localhost:8080/"
        },
        "id": "8GU6fx9ZquxJ",
        "outputId": "390a8a87-a482-4402-8c9d-bb7b03fc6907"
      },
      "source": [
        "y = dados['precos']\n",
        "X = dados[['area', 'garagem', 'banheiros', 'lareira', 'marmore', 'andares']]\n",
        "\n",
        "X_train, X_test, y_train, y_test = train_test_split(X, y, test_size=0.3, random_state=42)\n",
        "\n",
        "modelo = LinearRegression()\n",
        "\n",
        "modelo.fit(X_train, y_train)\n",
        "\n",
        "print('R² = {}'.format(modelo.score(X_train, y_train).round(2)))\n"
      ],
      "execution_count": 15,
      "outputs": [
        {
          "output_type": "stream",
          "text": [
            "R² = 0.66\n"
          ],
          "name": "stdout"
        }
      ]
    },
    {
      "cell_type": "code",
      "metadata": {
        "colab": {
          "base_uri": "https://localhost:8080/"
        },
        "id": "RQ1xouKiq-5n",
        "outputId": "86c48760-17a2-4ddc-85fc-1745bf56e764"
      },
      "source": [
        "y_previsto = modelo.predict(X_test)\n",
        "\n",
        "print('R² = %s' % metrics.r2_score(y_test,y_previsto).round(2))"
      ],
      "execution_count": 16,
      "outputs": [
        {
          "output_type": "stream",
          "text": [
            "R² = 0.62\n"
          ],
          "name": "stdout"
        }
      ]
    },
    {
      "cell_type": "code",
      "metadata": {
        "colab": {
          "base_uri": "https://localhost:8080/"
        },
        "id": "LCGZ3gjfrGMi",
        "outputId": "cf9a97cc-bfc5-43dd-dceb-1c71a712092b"
      },
      "source": [
        "# gerando estimativas de preço a partir de um conjunto de informações de um imóvel.\n",
        "area=38\n",
        "garagem=2\n",
        "banheiros=4\n",
        "lareira=2\n",
        "marmore=0\n",
        "andares=1\n",
        "\n",
        "entrada=[[area, garagem, banheiros, lareira, marmore, andares]]\n",
        "\n",
        "print('$ {0:.2f}'.format(modelo.predict(entrada)[0]))"
      ],
      "execution_count": 17,
      "outputs": [
        {
          "output_type": "stream",
          "text": [
            "$ 45107.97\n"
          ],
          "name": "stdout"
        }
      ]
    },
    {
      "cell_type": "code",
      "metadata": {
        "colab": {
          "base_uri": "https://localhost:8080/",
          "height": 142
        },
        "id": "L-I1jkXOrjYR",
        "outputId": "1cca1039-fb29-4cd5-e3f0-e54fa0427c4c"
      },
      "source": [
        "# Métricas da regressão\n",
        "EQM = metrics.mean_squared_error(y_test, y_previsto).round(2)\n",
        "REQM = np.sqrt(metrics.mean_squared_error(y_test, y_previsto)).round(2)\n",
        "R2 = metrics.r2_score(y_test, y_previsto).round(2)\n",
        "\n",
        "pd.DataFrame([EQM, REQM, R2], ['EQM', 'REQM', 'R²'], columns=['Metricas'])"
      ],
      "execution_count": 18,
      "outputs": [
        {
          "output_type": "execute_result",
          "data": {
            "text/html": [
              "<div>\n",
              "<style scoped>\n",
              "    .dataframe tbody tr th:only-of-type {\n",
              "        vertical-align: middle;\n",
              "    }\n",
              "\n",
              "    .dataframe tbody tr th {\n",
              "        vertical-align: top;\n",
              "    }\n",
              "\n",
              "    .dataframe thead th {\n",
              "        text-align: right;\n",
              "    }\n",
              "</style>\n",
              "<table border=\"1\" class=\"dataframe\">\n",
              "  <thead>\n",
              "    <tr style=\"text-align: right;\">\n",
              "      <th></th>\n",
              "      <th>Metricas</th>\n",
              "    </tr>\n",
              "  </thead>\n",
              "  <tbody>\n",
              "    <tr>\n",
              "      <th>EQM</th>\n",
              "      <td>55782761.70</td>\n",
              "    </tr>\n",
              "    <tr>\n",
              "      <th>REQM</th>\n",
              "      <td>7468.79</td>\n",
              "    </tr>\n",
              "    <tr>\n",
              "      <th>R²</th>\n",
              "      <td>0.62</td>\n",
              "    </tr>\n",
              "  </tbody>\n",
              "</table>\n",
              "</div>"
            ],
            "text/plain": [
              "         Metricas\n",
              "EQM   55782761.70\n",
              "REQM      7468.79\n",
              "R²           0.62"
            ]
          },
          "metadata": {
            "tags": []
          },
          "execution_count": 18
        }
      ]
    },
    {
      "cell_type": "code",
      "metadata": {
        "id": "46tBR8SWrqsh"
      },
      "source": [
        "# Salvando e Carregando o Modelo Estimado\n",
        "import pickle\n",
        "output = open('modelo_consumo_cerveja', 'wb')\n",
        "pickle.dump(modelo, output)\n",
        "output.close()"
      ],
      "execution_count": 19,
      "outputs": []
    }
  ]
}